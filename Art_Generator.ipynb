{
  "cells": [
    {
      "cell_type": "code",
      "execution_count": null,
      "metadata": {
        "id": "aTDL3RtuDDld"
      },
      "outputs": [],
      "source": [
        "from keras.layers import Input, Reshape, Dropout, Dense, Flatten, BatchNormalization, Activation, ZeroPadding2D\n",
        "from keras.layers.activation import LeakyReLU\n",
        "from keras.layers.convolutional import UpSampling2D, Conv2D\n",
        "from keras.models import Sequential, Model, load_model\n",
        "from keras.optimizers import Adam\n",
        "from keras.optimizers import RMSprop\n",
        "import numpy as np\n",
        "from PIL import Image\n",
        "import os\n",
        "import tensorflow as tf\n",
        "from PIL import Image"
      ]
    },
    {
      "cell_type": "code",
      "execution_count": null,
      "metadata": {
        "id": "L3SBEcHkDNF7"
      },
      "outputs": [],
      "source": [
        "## image_resizer.py\n",
        "# Importing required libraries\n",
        "import os\n",
        "import numpy as np\n",
        "from PIL import Image\n",
        "\n",
        "# Defining an image size and image channel\n",
        "# We are going to resize all our images to 128X128 size and since our images are colored images\n",
        "# We are setting our image channels to 3 (RGB)\n",
        "\n",
        "IMAGE_SIZE = 128\n",
        "IMAGE_CHANNELS = 3\n",
        "IMAGE_DIR = '/content/Abstract_gallery/Abstract_gallery'\n",
        "\n",
        "# Defining image dir path. Change this if you have different directory\n",
        "images_path = IMAGE_DIR \n",
        "\n",
        "training_data = []\n",
        "\n",
        "# Iterating over the images inside the directory and resizing them using\n",
        "# Pillow's resize method.\n",
        "print('resizing...')\n",
        "\n",
        "for filename in os.listdir(images_path):\n",
        "    path = os.path.join(images_path, filename)\n",
        "    try:\n",
        "      image = Image.open(path).resize((IMAGE_SIZE, IMAGE_SIZE), Image.ANTIALIAS)\n",
        "    except OSError:\n",
        "      continue\n",
        "    training_data.append(np.asarray(image))\n",
        "\n",
        "training_data = np.reshape(\n",
        "    training_data, (-1, IMAGE_SIZE, IMAGE_SIZE, IMAGE_CHANNELS))\n",
        "training_data = training_data / 127.5 - 1\n",
        "\n",
        "print('saving file...')\n",
        "np.save('cubism_data.npy', training_data)"
      ]
    },
    {
      "cell_type": "code",
      "execution_count": null,
      "metadata": {
        "id": "CtLbCKovJC26"
      },
      "outputs": [],
      "source": [
        "#install dependencies\n",
        "!pip install kaggle"
      ]
    },
    {
      "cell_type": "code",
      "execution_count": null,
      "metadata": {
        "id": "5Ri9MY0eL_v1"
      },
      "outputs": [],
      "source": [
        "from google.colab import files\n",
        "files.upload()"
      ]
    },
    {
      "cell_type": "code",
      "execution_count": null,
      "metadata": {
        "id": "FIrLdczSMSBp"
      },
      "outputs": [],
      "source": [
        "!mkdir -p ~/.kaggle\n",
        "!cp kaggle.json ~/.kaggle/\n",
        "\n",
        "#chaange permission\n",
        "\n",
        "!chmod 600 ~/.kaggle/kaggle.json"
      ]
    },
    {
      "cell_type": "code",
      "execution_count": null,
      "metadata": {
        "id": "FAarPaobNIuK"
      },
      "outputs": [],
      "source": [
        "!kaggle datasets download -d smeschke/four-shapes"
      ]
    },
    {
      "cell_type": "code",
      "execution_count": null,
      "metadata": {
        "id": "L66iGP31GCbF"
      },
      "outputs": [],
      "source": [
        "!unzip four-shapes.zip\n",
        "\n",
        "\n",
        "\n"
      ]
    },
    {
      "cell_type": "code",
      "execution_count": null,
      "metadata": {
        "id": "lGGrHegkH4Un"
      },
      "outputs": [],
      "source": [
        "PREVIEW_ROWS = 1\n",
        "PREVIEW_COLS = 1\n",
        "PREVIEW_MARGIN = 4\n",
        "SAVE_FREQ = 100\n",
        "\n",
        "#SIZE VECTOR TO GENERATE IMAGES FROM\n",
        "NOISE_SIZE= 100\n",
        "\n",
        "#configuration\n",
        "epochs = 1500\n",
        "batch_size = 32\n",
        "\n",
        "generate_res = 3\n",
        "IMAGE_SIZE = 128\n",
        "IMAGE_CHANNELS = 3\n",
        "\n",
        "training_data = np.load(os.path.join('/content/', 'cubism_data.npy'))\n"
      ]
    },
    {
      "cell_type": "code",
      "execution_count": null,
      "metadata": {
        "id": "LV6aWRRPDXwN"
      },
      "outputs": [],
      "source": [
        "''' Discriminator'''\n",
        "\n",
        "def build_discriminator(image_shape):\n",
        "  model = Sequential()\n",
        "\n",
        "  model.add(Conv2D(32,kernel_size = 3, strides = 2, input_shape = image_shape, padding = \"same\"))\n",
        "  model.add(LeakyReLU(alpha = 0.2))\n",
        "  model.add(Dropout(0.25))\n",
        "\n",
        "  model.add(Conv2D(64, kernel_size=8, strides=2, padding=\"same\"))\n",
        "  model.add(ZeroPadding2D(padding=((0, 1), (0, 1))))\n",
        "  model.add(BatchNormalization(momentum=0.8))\n",
        "  model.add(LeakyReLU(alpha=0.2))\n",
        "  model.add(Dropout(0.25))\n",
        "\n",
        "  model.add(Conv2D(128, kernel_size=8, strides=2, padding=\"same\"))\n",
        "  model.add(BatchNormalization(momentum=0.8))\n",
        "  model.add(LeakyReLU(alpha=0.2))\n",
        "  model.add(Dropout(0.25))\n",
        "\n",
        "  model.add(Conv2D(256, kernel_size=8, strides=1, padding=\"same\"))\n",
        "  model.add(BatchNormalization(momentum=0.8))\n",
        "  model.add(LeakyReLU(alpha=0.2))\n",
        "  model.add(Dropout(0.25))\n",
        "  \n",
        "  model.add(Conv2D(512, kernel_size=8, strides=1, padding=\"same\"))\n",
        "  model.add(BatchNormalization(momentum=0.8))\n",
        "  model.add(LeakyReLU(alpha=0.2))\n",
        "  model.add(Dropout(0.25))\n",
        "  \n",
        "  model.add(Flatten())\n",
        "  model.add(Dense(1, activation='sigmoid'))\n",
        "  \n",
        "  input_image = Input(shape=image_shape)\n",
        "  validity = model(input_image)\n",
        "  return Model(input_image, validity)"
      ]
    },
    {
      "cell_type": "code",
      "execution_count": null,
      "metadata": {
        "id": "NL6v_GrgDfXH"
      },
      "outputs": [],
      "source": [
        "'''Generator'''\n",
        "def build_generator(noise_size, channels):\n",
        "    model = Sequential()\n",
        "    model.add(Dense(4 * 4 * 256, activation=\"relu\",input_dim=noise_size))\n",
        "    model.add(Reshape((4, 4, 256)))\n",
        "\n",
        "    model.add(UpSampling2D())\n",
        "    model.add(Conv2D(256, kernel_size=16, padding=\"same\"))\n",
        "    model.add(BatchNormalization(momentum=0.8))\n",
        "    model.add(Activation(\"relu\"))\n",
        "\n",
        "    model.add(UpSampling2D())\n",
        "    model.add(Conv2D(256, kernel_size=16, padding=\"same\"))\n",
        "    model.add(BatchNormalization(momentum=0.8))\n",
        "    model.add(Activation(\"relu\"))\n",
        "\n",
        "    for i in range(generate_res):\n",
        "         model.add(UpSampling2D())\n",
        "         model.add(Conv2D(256, kernel_size=16, padding=\"same\"))\n",
        "         model.add(BatchNormalization(momentum=0.8))\n",
        "         model.add(Activation(\"relu\"))\n",
        "    model.summary()\n",
        "\n",
        "    model.add(Conv2D(channels, kernel_size=32, padding=\"same\"))\n",
        "    model.add(Activation(\"tanh\"))\n",
        "    input = Input(shape=(noise_size,))\n",
        "    generated_image = model(input)\n",
        "    \n",
        "    \n",
        "    return Model(input, generated_image)"
      ]
    },
    {
      "cell_type": "code",
      "execution_count": null,
      "metadata": {
        "id": "VUUdygokPVOj"
      },
      "outputs": [],
      "source": [
        "from prompt_toolkit import output\n",
        "import cv2\n",
        "def save_images(cnt,noise):\n",
        "    image_array = np.full((\n",
        "        PREVIEW_MARGIN +  (PREVIEW_ROWS*(IMAGE_SIZE+PREVIEW_MARGIN)),\n",
        "        PREVIEW_MARGIN +  (PREVIEW_COLS*(IMAGE_SIZE+PREVIEW_MARGIN)), 3),\n",
        "        255, dtype=np.uint8)\n",
        "    \n",
        "    generated_images = generator.predict(noise)\n",
        "\n",
        "    generated_images = 0.5 * generated_images + 0.5\n",
        "\n",
        "    image_count = 0\n",
        "    for row in range(PREVIEW_ROWS):\n",
        "        for col in range(PREVIEW_COLS):\n",
        "          r = row * (IMAGE_SIZE+ PREVIEW_MARGIN) + PREVIEW_MARGIN\n",
        "          c = col * (IMAGE_SIZE + PREVIEW_MARGIN) + PREVIEW_MARGIN\n",
        "          image_array[r:r + IMAGE_SIZE, c:c + IMAGE_SIZE] = generated_images[image_count] * 256\n",
        "          image_count += 1\n",
        "\n",
        "    output_path = '/content/output'\n",
        "    if not os.path.exists(output_path):\n",
        "      os.makedirs(output_path)\n",
        "\n",
        "    filename = os.path.join(output_path, f\"trained-{cnt}.png\")\n",
        "    #image_array = cv2.cvtColor(image_array, cv2.COLOR_BGR2RGB) # Possible fix #1, convert to RGB before saving\n",
        "    #print(\"IMAGE ARRAY\")\n",
        "    #print(image_array[60][60])\n",
        "    im = Image.fromarray(image_array)\n",
        "    im.save(filename)\n"
      ]
    },
    {
      "cell_type": "code",
      "execution_count": null,
      "metadata": {
        "id": "FOSFse2OQfpH"
      },
      "outputs": [],
      "source": []
    },
    {
      "cell_type": "code",
      "execution_count": null,
      "metadata": {
        "colab": {
          "background_save": true
        },
        "id": "NtEaPdEJR93Z"
      },
      "outputs": [],
      "source": [
        "image_shape = (IMAGE_SIZE, IMAGE_SIZE, IMAGE_CHANNELS)\n",
        "\n",
        "optimizer = Adam(1.5e-4, 0.5)\n",
        "#optimizer = GradientAccumulation('adam', accumulation_steps=8)\n",
        "#optimizer = AdamAccumulated(accumulation_steps=8)\n",
        "\n",
        "discriminator = build_discriminator(image_shape)\n",
        "discriminator.compile(loss=\"binary_crossentropy\",optimizer=optimizer, metrics=[\"accuracy\"])\n",
        "#discriminator.compile(loss='binary_crossentropy', optimizer=RMSprop(learning_rate=0.0008, decay=6e-8, clipvalue=1.0), metrics=['accuracy'])\n",
        "generator = build_generator(NOISE_SIZE, IMAGE_CHANNELS)\n",
        "\n",
        "random_input = Input(shape=(NOISE_SIZE,))\n",
        "\n",
        "generated_image = generator(random_input)\n",
        "\n",
        "discriminator.trainable = False\n",
        "\n",
        "validity = discriminator(generated_image)\n",
        "\n",
        "combined = Model(random_input, validity)\n",
        "combined.compile(loss=\"binary_crossentropy\",optimizer=optimizer, metrics=[\"accuracy\"])\n",
        "\n",
        "y_real = np.ones((batch_size, 1))\n",
        "y_fake = np.zeros((batch_size, 1))\n",
        "\n",
        "#fixed_noise = tf.random.normal([PREVIEW_ROWS * PREVIEW_COLS, NOISE_SIZE], -1.0, 1.0, tf.float32)\n",
        "fixed_noise = np.random.normal(0, 1, (PREVIEW_ROWS * PREVIEW_COLS, NOISE_SIZE)) # Possible fix #2: change from np.random.normal to tensorflow's tf.random.normal\n",
        "\n",
        "cnt = 1\n",
        "for epoch in range(epochs):\n",
        " idx = np.random.randint(0, training_data.shape[0], batch_size)\n",
        " x_real = training_data[idx]\n",
        " \n",
        " #noise = tf.random.normal([batch_size, NOISE_SIZE], -1.0, 1.0, tf.float32)\n",
        " noise= np.random.normal(0, 1, (batch_size, NOISE_SIZE)) # Fix #2 cont. Possibly change from 0, 1 to -1.0, 1.0? (since discriminator uses sigmoid)\n",
        " x_fake = generator.predict(noise)\n",
        " \n",
        " discriminator_metric_real = discriminator.train_on_batch(x_real, y_real)\n",
        " discriminator_metric_generated = discriminator.train_on_batch(x_fake, y_fake)\n",
        " \n",
        " discriminator_metric = 0.5 * np.add(discriminator_metric_real, discriminator_metric_generated)\n",
        "\n",
        " generator_metric = combined.train_on_batch(noise, y_real)\n",
        "\n",
        " if epoch %20 == 0:\n",
        "   save_images(cnt, fixed_noise)\n",
        "   cnt += 1\n",
        " \n",
        "   print(f\"{epoch} epoch, Discriminator accuracy: {100*  discriminator_metric[1]}, Generator accuracy: {100 * generator_metric[1]}\")"
      ]
    },
    {
      "cell_type": "code",
      "execution_count": null,
      "metadata": {
        "id": "31eN_uCn0ght"
      },
      "outputs": [],
      "source": [
        "!rm -rf output"
      ]
    }
  ],
  "metadata": {
    "accelerator": "GPU",
    "colab": {
      "provenance": []
    },
    "gpuClass": "premium",
    "kernelspec": {
      "display_name": "Python 3",
      "name": "python3"
    },
    "language_info": {
      "name": "python"
    }
  },
  "nbformat": 4,
  "nbformat_minor": 0
}